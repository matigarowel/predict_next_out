{
 "cells": [
  {
   "cell_type": "markdown",
   "metadata": {},
   "source": [
    "## Setup configuration for our validation"
   ]
  },
  {
   "cell_type": "code",
   "execution_count": 19,
   "metadata": {},
   "outputs": [],
   "source": [
    "HD_OUTPUT_FILENAME = 'hashdice_validation.txt'\n",
    "PREVIOUS_TIMESTEP_COUNT = 4\n",
    "IMPORT_COUNT = 100000 + PREVIOUS_TIMESTEP_COUNT"
   ]
  },
  {
   "cell_type": "markdown",
   "metadata": {},
   "source": [
    "## Generate deterministic dataset"
   ]
  },
  {
   "cell_type": "code",
   "execution_count": 20,
   "metadata": {},
   "outputs": [],
   "source": [
    "import hmac\n",
    "import hashlib\n",
    "\n",
    "def hashdice(secret_key, message):\n",
    "    hmac_sha512 = hmac.new(key=secret_key.encode(), msg=message.encode(), digestmod=hashlib.sha512).hexdigest()\n",
    "    lucky = int(hmac_sha512[0:5], 16)\n",
    "    return lucky % 100000\n",
    "\n",
    "\n",
    "with open(HD_OUTPUT_FILENAME, 'w') as f:\n",
    "\n",
    "    for i in range(IMPORT_COUNT + 1):\n",
    "        secret_key = '4671f003b18db91be8f1570c7f681ad9e97026c5f34d89a733f48ab81eb8d592'\n",
    "        message = f'5533idsczGPRYacG5N15jfJ6nm5:{i}'\n",
    "        result = hashdice(secret_key, message)\n",
    "        rs = str(result)\n",
    "        f.write(f'{rs + str(i%10000)}\\n')"
   ]
  },
  {
   "cell_type": "markdown",
   "metadata": {},
   "source": [
    "## Convert to input and target data"
   ]
  },
  {
   "cell_type": "code",
   "execution_count": 21,
   "metadata": {},
   "outputs": [
    {
     "name": "stdout",
     "output_type": "stream",
     "text": [
      "30\n",
      "(100001, 120) (100001, 30)\n",
      "[0 1 0 0 1 1 1 1 0 0 0 0 1 0 0 0 0 1 0 0 0 0 0 0 0 0 0 0 0 0 1 0 0 1 0 1 0\n",
      " 0 0 1 1 1 0 1 0 1 1 0 0 0 0 0 0 0 0 0 0 0 0 0 0 1 1 1 1 1 0 1 0 0 0 0 0 1\n",
      " 0 0 0 0 0 0 0 0 0 0 0 0 0 0 0 0 1 0 1 1 1 1 0 1 1 1 0 0 1 1 0 1 0 0 0 0 0\n",
      " 0 0 0 0 0 0 0 0 0]\n",
      "[0 1 0 1 0 0 1 0 1 1 0 0 0 0 1 0 1 0 1 1 0 0 0 0 0 0 0 0 0 0]\n"
     ]
    }
   ],
   "source": [
    "import numpy as np\n",
    "\n",
    "# convert the sequence of generated numbers to 4 inputs and one output\n",
    "def strided(a, L):\n",
    "    shp = a.shape\n",
    "    s  = a.strides\n",
    "    nd0 = shp[0]-L+1\n",
    "    shp_in = (nd0,L)+shp[1:]\n",
    "    strd_in = (s[0],) + s\n",
    "    return np.lib.stride_tricks.as_strided(a, shape=shp_in, strides=strd_in)\n",
    "\n",
    "df = np.genfromtxt(HD_OUTPUT_FILENAME,delimiter='\\n',dtype='uint64')\n",
    "TOTAL_DATA_NUM = IMPORT_COUNT-PREVIOUS_TIMESTEP_COUNT\n",
    "\n",
    "# calculates how many bits are in the output.\n",
    "BIT_WIDTH = np.ceil(np.log2(np.amax(df))).astype(int)\n",
    "print(BIT_WIDTH)\n",
    "# convert the generated numbers to binary sequences\n",
    "df_as_bits =(df[:,None] & (1 << np.arange(BIT_WIDTH,dtype='uint64')) > 0).astype(int)\n",
    "df_as_frames = strided(df_as_bits, PREVIOUS_TIMESTEP_COUNT+1)\n",
    "\n",
    "#indicies = np.arange(TOTAL_DATA_NUM,dtype='uint64')\n",
    "#print(indicies)\n",
    "#np.random.shuffle(indicies)\n",
    "#print(indicies)\n",
    "#df_as_frames=df_as_frames[indicies]\n",
    "\n",
    "# convert the data into inputs and outputs\n",
    "y = df_as_frames[:,-1,:]\n",
    "X = df_as_frames[:,:-1,]\n",
    "X = X.reshape([X.shape[0], X.shape[1]*X.shape[2]])\n",
    "\n",
    "print(np.shape(X), np.shape(y))\n",
    "\n",
    "\n",
    "print(X[0])\n",
    "print(y[0])"
   ]
  },
  {
   "cell_type": "markdown",
   "metadata": {},
   "source": [
    "## Load pre-trained model"
   ]
  },
  {
   "cell_type": "code",
   "execution_count": 22,
   "metadata": {},
   "outputs": [],
   "source": [
    "from tensorflow.keras.models import load_model\n",
    "model = load_model('hashdice_model.h5')"
   ]
  },
  {
   "cell_type": "markdown",
   "metadata": {},
   "source": [
    "## Validate bitwise accuracy"
   ]
  },
  {
   "cell_type": "code",
   "execution_count": 23,
   "metadata": {},
   "outputs": [
    {
     "name": "stdout",
     "output_type": "stream",
     "text": [
      "391/391 [==============================] - 1s 3ms/step - loss: 0.5921 - binary_accuracy: 0.5989\n",
      "test loss: 0.592145, test acc: 0.5989378094673157\n"
     ]
    }
   ],
   "source": [
    "results = model.evaluate(X, y, batch_size=256)\n",
    "print(\"test loss: %f, test acc: %s\" % tuple(results))"
   ]
  },
  {
   "cell_type": "code",
   "execution_count": 35,
   "metadata": {},
   "outputs": [
    {
     "name": "stdout",
     "output_type": "stream",
     "text": [
      "1/1 [==============================] - 0s 132ms/step\n"
     ]
    }
   ],
   "source": [
    "import tensorflow as tf\n",
    "index = 10\n",
    "inputTest=np.reshape(X[index],(1,120))\n",
    "predict = model.predict(inputTest)"
   ]
  },
  {
   "cell_type": "code",
   "execution_count": 36,
   "metadata": {},
   "outputs": [
    {
     "name": "stdout",
     "output_type": "stream",
     "text": [
      "Original Result 2.370437e-07, 0.9999604, 0.6775574, 0.55164695, 0.5111164, 0.48322776, 0.5315596, 0.5957751, 0.57050997, 0.4798604, 0.44515052, 0.4681123, 0.5211956, 0.5018133, 0.51835114, 0.5521113, 0.5989501, 0.50600857, 0.51195425, 0.49408752, 0.44161886, 0.3734192, 0.40087196, 0.122052856, 0.0021829158, 0.0015598203, 0.0012291981, 1.2325062e-05, 1.9887497e-05, 1.8105751e-05\n",
      "-------------------------\n",
      "Original Result 1.8105751e-05, 1.9887497e-05, 1.2325062e-05, 0.0012291981, 0.0015598203, 0.0021829158, 0.122052856, 0.40087196, 0.3734192, 0.44161886, 0.49408752, 0.51195425, 0.50600857, 0.5989501, 0.5521113, 0.51835114, 0.5018133, 0.5211956, 0.4681123, 0.44515052, 0.4798604, 0.57050997, 0.5957751, 0.5315596, 0.48322776, 0.5111164, 0.55164695, 0.6775574, 0.9999604, 2.370437e-07\n",
      "reverse correct output------------[0 1 1 0 0 0 1 1 1 1 0 0 0 1 1 1 1 1 0 1 0 0 0 1 0 0 0 0 0 0]\n",
      "predicted output reverse----------[0 1 1 1 1 1 1 1 1 1 1 1 1 1 1 1 1 1 1 1 1 1 1 0 0 0 0 0 0 0]\n",
      "correct output--------------------[0 0 0 0 0 0 1 0 0 0 1 0 1 1 1 1 1 0 0 0 1 1 1 1 0 0 0 1 1 0]\n",
      "predicted output------------------[0 0 0 0 0 0 0 1 1 1 1 1 1 1 1 1 1 1 1 1 1 1 1 1 1 1 1 1 1 0]\n",
      "correct output--------------------9167814\n",
      "predicted output------------------520670.0\n"
     ]
    }
   ],
   "source": [
    "orignalResult = ', '.join([str(x) for x in predict[0]])\n",
    "print(f'Original Result {orignalResult}')\n",
    "orignalResult = ', '.join([str(x) for x in predict[0][::-1]])\n",
    "print(f'-------------------------')\n",
    "print(f'Original Result {orignalResult}')\n",
    "npWhere=np.where(predict[0] > 0.2, 1, 0)\n",
    "print(f'reverse correct output------------{y[index]}')\n",
    "print(f'predicted output reverse----------{npWhere}')\n",
    "o = y[index][::-1]\n",
    "print(f'correct output--------------------{o}')\n",
    "npWhere = npWhere[::-1]\n",
    "print(f'predicted output------------------{npWhere}')\n",
    "tfround = tf.round(predict[0])\n",
    "#print(f'tfround {tfround}')\n",
    "\n",
    "output = sum(bit * 2**(len(o)-i-1) for i, bit in enumerate(o))\n",
    "print(f'correct output--------------------{output}')\n",
    "result = np.array(tfround[::-1])\n",
    "result = sum(bit * 2**(len(result)-i-1) for i, bit in enumerate(result))\n",
    "print(f'predicted output------------------{result}')"
   ]
  },
  {
   "cell_type": "code",
   "execution_count": 54,
   "metadata": {},
   "outputs": [],
   "source": [
    "#000000000011010100001101001010\n",
    "#000000000011011110100001111110"
   ]
  }
 ],
 "metadata": {
  "interpreter": {
   "hash": "26adf6824cc28eec5712fda69f7f12e89b06b885262dbddff658e7fce52ab42f"
  },
  "kernelspec": {
   "display_name": "Python 3 (ipykernel)",
   "language": "python",
   "name": "python3"
  },
  "language_info": {
   "codemirror_mode": {
    "name": "ipython",
    "version": 3
   },
   "file_extension": ".py",
   "mimetype": "text/x-python",
   "name": "python",
   "nbconvert_exporter": "python",
   "pygments_lexer": "ipython3",
   "version": "3.10.9"
  }
 },
 "nbformat": 4,
 "nbformat_minor": 4
}
