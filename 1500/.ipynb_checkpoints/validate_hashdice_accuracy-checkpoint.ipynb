{
 "cells": [
  {
   "cell_type": "markdown",
   "metadata": {},
   "source": [
    "## Setup configuration for our validation"
   ]
  },
  {
   "cell_type": "code",
   "execution_count": 1,
   "metadata": {},
   "outputs": [],
   "source": [
    "HD_OUTPUT_FILENAME = 'hashdice_validation.txt'\n",
    "PREVIOUS_TIMESTEP_COUNT = 4\n",
    "IMPORT_COUNT = 100000 + PREVIOUS_TIMESTEP_COUNT"
   ]
  },
  {
   "cell_type": "markdown",
   "metadata": {},
   "source": [
    "## Generate deterministic dataset"
   ]
  },
  {
   "cell_type": "code",
   "execution_count": 2,
   "metadata": {},
   "outputs": [],
   "source": [
    "import hmac\n",
    "import hashlib\n",
    "\n",
    "def hashdice(secret_key, message):\n",
    "    hmac_sha512 = hmac.new(key=secret_key.encode(), msg=message.encode(), digestmod=hashlib.sha512).hexdigest()\n",
    "    lucky = int(hmac_sha512[0:5], 16)\n",
    "    return lucky % 100000\n",
    "\n",
    "\n",
    "with open(HD_OUTPUT_FILENAME, 'w') as f:\n",
    "\n",
    "    for i in range(IMPORT_COUNT + 1):\n",
    "        secret_key = '4671f003b18db91be8f1570c7f681ad9e97026c5f34d89a733f48ab81eb8d592'\n",
    "        message = f'5533idsczGPRYacG5N15jfJ6nm5:{i}'\n",
    "        result = hashdice(secret_key, message)\n",
    "        rs = str(result)\n",
    "        f.write(f'{rs + str(i%10000)}\\n')"
   ]
  },
  {
   "cell_type": "markdown",
   "metadata": {},
   "source": [
    "## Convert to input and target data"
   ]
  },
  {
   "cell_type": "code",
   "execution_count": 3,
   "metadata": {},
   "outputs": [
    {
     "name": "stdout",
     "output_type": "stream",
     "text": [
      "30\n",
      "(100001, 120) (100001, 30)\n",
      "[0 1 0 0 1 1 1 1 0 0 0 0 1 0 0 0 0 1 0 0 0 0 0 0 0 0 0 0 0 0 1 0 0 1 0 1 0\n",
      " 0 0 1 1 1 0 1 0 1 1 0 0 0 0 0 0 0 0 0 0 0 0 0 0 1 1 1 1 1 0 1 0 0 0 0 0 1\n",
      " 0 0 0 0 0 0 0 0 0 0 0 0 0 0 0 0 1 0 1 1 1 1 0 1 1 1 0 0 1 1 0 1 0 0 0 0 0\n",
      " 0 0 0 0 0 0 0 0 0]\n",
      "[0 1 0 1 0 0 1 0 1 1 0 0 0 0 1 0 1 0 1 1 0 0 0 0 0 0 0 0 0 0]\n"
     ]
    }
   ],
   "source": [
    "import numpy as np\n",
    "\n",
    "# convert the sequence of generated numbers to 4 inputs and one output\n",
    "def strided(a, L):\n",
    "    shp = a.shape\n",
    "    s  = a.strides\n",
    "    nd0 = shp[0]-L+1\n",
    "    shp_in = (nd0,L)+shp[1:]\n",
    "    strd_in = (s[0],) + s\n",
    "    return np.lib.stride_tricks.as_strided(a, shape=shp_in, strides=strd_in)\n",
    "\n",
    "df = np.genfromtxt(HD_OUTPUT_FILENAME,delimiter='\\n',dtype='uint64')\n",
    "TOTAL_DATA_NUM = IMPORT_COUNT-PREVIOUS_TIMESTEP_COUNT\n",
    "\n",
    "# calculates how many bits are in the output.\n",
    "BIT_WIDTH = np.ceil(np.log2(np.amax(df))).astype(int)\n",
    "print(BIT_WIDTH)\n",
    "# convert the generated numbers to binary sequences\n",
    "df_as_bits =(df[:,None] & (1 << np.arange(BIT_WIDTH,dtype='uint64')) > 0).astype(int)\n",
    "df_as_frames = strided(df_as_bits, PREVIOUS_TIMESTEP_COUNT+1)\n",
    "\n",
    "#indicies = np.arange(TOTAL_DATA_NUM,dtype='uint64')\n",
    "#print(indicies)\n",
    "#np.random.shuffle(indicies)\n",
    "#print(indicies)\n",
    "#df_as_frames=df_as_frames[indicies]\n",
    "\n",
    "# convert the data into inputs and outputs\n",
    "y = df_as_frames[:,-1,:]\n",
    "X = df_as_frames[:,:-1,]\n",
    "X = X.reshape([X.shape[0], X.shape[1]*X.shape[2]])\n",
    "\n",
    "print(np.shape(X), np.shape(y))\n",
    "\n",
    "\n",
    "print(X[0])\n",
    "print(y[0])"
   ]
  },
  {
   "cell_type": "markdown",
   "metadata": {},
   "source": [
    "## Load pre-trained model"
   ]
  },
  {
   "cell_type": "code",
   "execution_count": 4,
   "metadata": {},
   "outputs": [],
   "source": [
    "from tensorflow.keras.models import load_model\n",
    "model = load_model('hashdice_model.h5')"
   ]
  },
  {
   "cell_type": "markdown",
   "metadata": {},
   "source": [
    "## Validate bitwise accuracy"
   ]
  },
  {
   "cell_type": "code",
   "execution_count": 5,
   "metadata": {},
   "outputs": [
    {
     "name": "stdout",
     "output_type": "stream",
     "text": [
      "391/391 [==============================] - 2s 4ms/step - loss: 0.5914 - binary_accuracy: 0.5959\n",
      "test loss: 0.591414, test acc: 0.5959078073501587\n"
     ]
    }
   ],
   "source": [
    "results = model.evaluate(X, y, batch_size=256)\n",
    "print(\"test loss: %f, test acc: %s\" % tuple(results))"
   ]
  },
  {
   "cell_type": "code",
   "execution_count": 6,
   "metadata": {},
   "outputs": [
    {
     "name": "stdout",
     "output_type": "stream",
     "text": [
      "1/1 [==============================] - 0s 129ms/step\n"
     ]
    }
   ],
   "source": [
    "import tensorflow as tf\n",
    "index = 2\n",
    "inputTest=np.reshape(X[index],(1,120))\n",
    "predict = model.predict(inputTest)"
   ]
  },
  {
   "cell_type": "code",
   "execution_count": 7,
   "metadata": {},
   "outputs": [
    {
     "name": "stdout",
     "output_type": "stream",
     "text": [
      "Original Result 2.428592e-08, 0.88184845, 0.9631405, 0.577082, 0.4396599, 0.61575747, 0.4377974, 0.54967254, 0.53978455, 0.39816344, 0.37197503, 0.62312376, 0.55386335, 0.46072546, 0.5343259, 0.34333903, 0.4962835, 0.4796249, 0.55748653, 0.3092719, 0.116490826, 0.13523231, 0.12588662, 0.08605301, 0.006725871, 0.010726309, 0.0013513016, 8.911185e-05, 1.090546e-05, 2.3909619e-05\n",
      "-------------------------\n",
      "Original Result 2.3909619e-05, 1.090546e-05, 8.911185e-05, 0.0013513016, 0.010726309, 0.006725871, 0.08605301, 0.12588662, 0.13523231, 0.116490826, 0.3092719, 0.55748653, 0.4796249, 0.4962835, 0.34333903, 0.5343259, 0.46072546, 0.55386335, 0.62312376, 0.37197503, 0.39816344, 0.53978455, 0.54967254, 0.4377974, 0.61575747, 0.4396599, 0.577082, 0.9631405, 0.88184845, 2.428592e-08\n",
      "reverse correct output------------[0 0 1 0 0 1 0 0 1 0 0 0 1 1 1 0 0 1 0 0 0 0 0 0 0 0 0 0 0 0]\n",
      "predicted output reverse----------[0 1 1 1 1 1 1 1 1 1 1 1 1 1 1 1 1 1 1 1 0 0 0 0 0 0 0 0 0 0]\n",
      "correct output--------------------[0 0 0 0 0 0 0 0 0 0 0 0 1 0 0 1 1 1 0 0 0 1 0 0 1 0 0 1 0 0]\n",
      "predicted output------------------[0 0 0 0 0 0 0 0 0 0 1 1 1 1 1 1 1 1 1 1 1 1 1 1 1 1 1 1 1 0]\n",
      "correct output--------------------160036\n",
      "predicted output------------------285102.0\n"
     ]
    }
   ],
   "source": [
    "orignalResult = ', '.join([str(x) for x in predict[0]])\n",
    "print(f'Original Result {orignalResult}')\n",
    "orignalResult = ', '.join([str(x) for x in predict[0][::-1]])\n",
    "print(f'-------------------------')\n",
    "print(f'Original Result {orignalResult}')\n",
    "npWhere=np.where(predict[0] > 0.2, 1, 0)\n",
    "print(f'reverse correct output------------{y[index]}')\n",
    "print(f'predicted output reverse----------{npWhere}')\n",
    "o = y[index][::-1]\n",
    "print(f'correct output--------------------{o}')\n",
    "npWhere = npWhere[::-1]\n",
    "print(f'predicted output------------------{npWhere}')\n",
    "tfround = tf.round(predict[0])\n",
    "#print(f'tfround {tfround}')\n",
    "\n",
    "output = sum(bit * 2**(len(o)-i-1) for i, bit in enumerate(o))\n",
    "print(f'correct output--------------------{output}')\n",
    "result = np.array(tfround[::-1])\n",
    "result = sum(bit * 2**(len(result)-i-1) for i, bit in enumerate(result))\n",
    "print(f'predicted output------------------{result}')"
   ]
  },
  {
   "cell_type": "code",
   "execution_count": 54,
   "metadata": {},
   "outputs": [],
   "source": [
    "#000000000011010100001101001010\n",
    "#000000000001101001101101001110"
   ]
  }
 ],
 "metadata": {
  "interpreter": {
   "hash": "26adf6824cc28eec5712fda69f7f12e89b06b885262dbddff658e7fce52ab42f"
  },
  "kernelspec": {
   "display_name": "Python 3 (ipykernel)",
   "language": "python",
   "name": "python3"
  },
  "language_info": {
   "codemirror_mode": {
    "name": "ipython",
    "version": 3
   },
   "file_extension": ".py",
   "mimetype": "text/x-python",
   "name": "python",
   "nbconvert_exporter": "python",
   "pygments_lexer": "ipython3",
   "version": "3.10.9"
  }
 },
 "nbformat": 4,
 "nbformat_minor": 4
}
