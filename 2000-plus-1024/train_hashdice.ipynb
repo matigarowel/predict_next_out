{
 "cells": [
  {
   "cell_type": "code",
   "execution_count": 1,
   "metadata": {},
   "outputs": [],
   "source": [
    "import numpy as np\n",
    "import tensorflow as tf\n",
    "import keras_tuner as kt\n",
    "from tensorflow import keras\n",
    "from tensorflow.keras.models import Sequential\n",
    "from tensorflow.keras.layers import Dense\n",
    "import datetime\n",
    "import pandas as pd"
   ]
  },
  {
   "cell_type": "code",
   "execution_count": 2,
   "metadata": {},
   "outputs": [
    {
     "name": "stdout",
     "output_type": "stream",
     "text": [
      "[PhysicalDevice(name='/physical_device:CPU:0', device_type='CPU')]\n"
     ]
    }
   ],
   "source": [
    "print(tf.config.list_physical_devices('CPU'))"
   ]
  },
  {
   "cell_type": "code",
   "execution_count": 3,
   "metadata": {},
   "outputs": [],
   "source": [
    "IMPORT_COUNT = 2990000\n",
    "TEST_COUNT = 10000"
   ]
  },
  {
   "cell_type": "code",
   "execution_count": 4,
   "metadata": {},
   "outputs": [
    {
     "name": "stdout",
     "output_type": "stream",
     "text": [
      "Random seed is: 71926\n"
     ]
    }
   ],
   "source": [
    "# Generate random seed\n",
    "#myrand=np.random.randint(1, 99999 + 1)\n",
    "myrand=71926\n",
    "np.random.seed(myrand)\n",
    "tf.random.set_seed(myrand)\n",
    "print(\"Random seed is:\",myrand)"
   ]
  },
  {
   "cell_type": "code",
   "execution_count": 5,
   "metadata": {},
   "outputs": [],
   "source": [
    "PREVIOUS_TIMESTEP_COUNT = 4\n",
    "TOTAL_DATA_NUM = IMPORT_COUNT-PREVIOUS_TIMESTEP_COUNT"
   ]
  },
  {
   "cell_type": "code",
   "execution_count": 6,
   "metadata": {},
   "outputs": [],
   "source": [
    "# convert the sequence of generated numbers to 4 inputs and one output\n",
    "def strided(a, L):\n",
    "\tshp = a.shape\n",
    "\ts  = a.strides\n",
    "\tnd0 = shp[0]-L+1\n",
    "\tshp_in = (nd0,L)+shp[1:]\n",
    "\tstrd_in = (s[0],) + s\n",
    "\treturn np.lib.stride_tricks.as_strided(a, shape=shp_in, strides=strd_in)"
   ]
  },
  {
   "cell_type": "code",
   "execution_count": 7,
   "metadata": {},
   "outputs": [
    {
     "name": "stdout",
     "output_type": "stream",
     "text": [
      "[   135410    110121      8382 ... 578769997  48499998 494499999]\n"
     ]
    }
   ],
   "source": [
    "HD_OUTPUT_FILENAME=\"hashdice.txt\"\n",
    "df = np.genfromtxt(HD_OUTPUT_FILENAME,delimiter='\\n',dtype='uint64')[:IMPORT_COUNT]\n",
    "print(df)"
   ]
  },
  {
   "cell_type": "code",
   "execution_count": 8,
   "metadata": {},
   "outputs": [
    {
     "name": "stdout",
     "output_type": "stream",
     "text": [
      "30\n"
     ]
    }
   ],
   "source": [
    "# calculates how many bits are in the output.\n",
    "BIT_WIDTH = np.ceil(np.log2(np.amax(df))).astype(int)\n",
    "print(BIT_WIDTH)"
   ]
  },
  {
   "cell_type": "code",
   "execution_count": 9,
   "metadata": {},
   "outputs": [],
   "source": [
    "# convert the generated numbers to binary sequences\n",
    "df_as_bits =(df[:,None] & (1 << np.arange(BIT_WIDTH,dtype='uint64')) > 0).astype(int)\n",
    "df_as_frames = strided(df_as_bits, PREVIOUS_TIMESTEP_COUNT+1)"
   ]
  },
  {
   "cell_type": "code",
   "execution_count": 10,
   "metadata": {},
   "outputs": [],
   "source": [
    "indicies = np.arange(TOTAL_DATA_NUM,dtype='uint64')\n",
    "np.random.shuffle(indicies)\n",
    "df_as_frames=df_as_frames[indicies]"
   ]
  },
  {
   "cell_type": "code",
   "execution_count": 11,
   "metadata": {},
   "outputs": [
    {
     "name": "stdout",
     "output_type": "stream",
     "text": [
      "[0 1 1 0 1 0 0 0 1 0 0 1 1 0 0 0 0 0 1 0 0 0 0 0 1 0 1 0 0 0 1 1 1 0 1 0 0\n",
      " 0 1 1 1 1 1 1 0 0 0 0 1 1 0 1 1 1 0 0 0 0 0 0 0 0 0 0 0 1 0 1 1 1 0 0 0 1\n",
      " 1 0 1 1 0 0 0 1 1 0 1 0 1 0 0 0 1 0 0 0 1 0 0 1 0 1 1 1 1 0 1 1 1 1 0 1 0\n",
      " 0 1 1 0 0 1 0 0 0]\n",
      "[0 1 0 0 1 0 1 1 1 1 1 1 1 1 0 0 0 1 1 0 1 0 1 0 1 0 0 0 0 0]\n"
     ]
    }
   ],
   "source": [
    "# convert the data into inputs and outputs\n",
    "y = df_as_frames[:,-1,:]\n",
    "X = df_as_frames[:,:-1,]\n",
    "X = X.reshape([X.shape[0], X.shape[1]*X.shape[2]])\n",
    "print(X[0])\n",
    "print(y[0])"
   ]
  },
  {
   "cell_type": "code",
   "execution_count": 12,
   "metadata": {},
   "outputs": [],
   "source": [
    "# Convert the data into train and test data\n",
    "X_train = X[TEST_COUNT:]\n",
    "X_test = X[:TEST_COUNT]\n",
    "y_train = y[TEST_COUNT:]\n",
    "y_test = y[:TEST_COUNT]"
   ]
  },
  {
   "cell_type": "code",
   "execution_count": 13,
   "metadata": {},
   "outputs": [],
   "source": [
    "def build_model(hp):\n",
    "\tLOSS=\"binary_crossentropy\"\n",
    "\tmodel = Sequential()\n",
    "\tmodel.add(Dense(2000, activation='relu',input_shape=[X.shape[1]] ))\n",
    "\tmodel.add(Dense(1024, activation='relu'))\n",
    "\tmodel.add(Dense(y.shape[1], activation='sigmoid'))\n",
    "\topt = keras.optimizers.Nadam(\n",
    "\t\tlearning_rate=hp.Float(\"learning_rate\", 10**(-5), 10**(-3),sampling=\"log\"),\n",
    "\t\tepsilon=hp.Float(\"epsilon\",1e-7,1e-5,sampling=\"log\"),\n",
    "\t\tbeta_1=hp.Float(\"beta_1\",.8,.9,sampling=\"reverse_log\"),\n",
    "\t\tbeta_2=hp.Float(\"beta_2\",.8,.9,sampling=\"reverse_log\"),\n",
    "\t\t)\n",
    "\tmodel.compile(optimizer=opt, loss=LOSS,metrics=['binary_accuracy'])\n",
    "\treturn model"
   ]
  },
  {
   "cell_type": "code",
   "execution_count": 14,
   "metadata": {},
   "outputs": [],
   "source": [
    "#define call back functions\n",
    "stopEarly = tf.keras.callbacks.EarlyStopping(\n",
    "\tmonitor='binary_accuracy', min_delta=.001, patience=3, verbose=0, mode='auto', restore_best_weights=False\n",
    ")\n",
    "\n",
    "log_dir = \"hyperparameters/\"+datetime.datetime.now().strftime(\"%Y%m%d-%H%M%S\")\n",
    "tensorboard_callback = keras.callbacks.TensorBoard(log_dir=log_dir, histogram_freq=1,profile_batch=0)"
   ]
  },
  {
   "cell_type": "code",
   "execution_count": 15,
   "metadata": {},
   "outputs": [],
   "source": [
    "# extract a short set from the training for hyper parameter tuning\n",
    "X_train_short= X_train[:600000]\n",
    "y_train_short= y_train[:600000]"
   ]
  },
  {
   "cell_type": "code",
   "execution_count": null,
   "metadata": {},
   "outputs": [
    {
     "name": "stdout",
     "output_type": "stream",
     "text": [
      "Trial 7 Complete [05h 24m 45s]\n",
      "binary_accuracy: 0.7422116994857788\n",
      "\n",
      "Best binary_accuracy So Far: 0.7467892169952393\n",
      "Total elapsed time: 05h 24m 46s\n",
      "\n",
      "Search: Running Trial #8\n",
      "\n",
      "Value             |Best Value So Far |Hyperparameter\n",
      "2.662e-05         |0.0001871         |learning_rate\n",
      "1.7378e-06        |1.1351e-06        |epsilon\n",
      "0.85497           |0.88728           |beta_1\n",
      "0.89665           |0.88328           |beta_2\n",
      "\n",
      "Epoch 1/100\n",
      "2344/2344 [==============================] - 210s 88ms/step - loss: 0.6186 - binary_accuracy: 0.5708 - val_loss: 0.6058 - val_binary_accuracy: 0.5740\n",
      "Epoch 2/100\n",
      "2344/2344 [==============================] - 212s 90ms/step - loss: 0.6023 - binary_accuracy: 0.5764 - val_loss: 0.6002 - val_binary_accuracy: 0.5764\n",
      "Epoch 3/100\n",
      "2344/2344 [==============================] - 206s 88ms/step - loss: 0.5988 - binary_accuracy: 0.5786 - val_loss: 0.5981 - val_binary_accuracy: 0.5774\n",
      "Epoch 4/100\n",
      "2344/2344 [==============================] - 208s 89ms/step - loss: 0.5972 - binary_accuracy: 0.5804 - val_loss: 0.5972 - val_binary_accuracy: 0.5768\n",
      "Epoch 5/100\n",
      "2344/2344 [==============================] - 208s 89ms/step - loss: 0.5964 - binary_accuracy: 0.5818 - val_loss: 0.5968 - val_binary_accuracy: 0.5765\n",
      "Epoch 6/100\n",
      "2344/2344 [==============================] - 205s 87ms/step - loss: 0.5959 - binary_accuracy: 0.5834 - val_loss: 0.5965 - val_binary_accuracy: 0.5760\n",
      "Epoch 7/100\n",
      "2344/2344 [==============================] - 204s 87ms/step - loss: 0.5955 - binary_accuracy: 0.5848 - val_loss: 0.5966 - val_binary_accuracy: 0.5743\n",
      "Epoch 8/100\n",
      "2344/2344 [==============================] - 204s 87ms/step - loss: 0.5952 - binary_accuracy: 0.5863 - val_loss: 0.5962 - val_binary_accuracy: 0.5767\n",
      "Epoch 9/100\n",
      "2344/2344 [==============================] - 205s 87ms/step - loss: 0.5949 - binary_accuracy: 0.5878 - val_loss: 0.5962 - val_binary_accuracy: 0.5757\n",
      "Epoch 10/100\n",
      "2344/2344 [==============================] - 204s 87ms/step - loss: 0.5946 - binary_accuracy: 0.5892 - val_loss: 0.5960 - val_binary_accuracy: 0.5756\n",
      "Epoch 11/100\n",
      "2344/2344 [==============================] - 206s 88ms/step - loss: 0.5944 - binary_accuracy: 0.5905 - val_loss: 0.5960 - val_binary_accuracy: 0.5764\n",
      "Epoch 12/100\n",
      "2344/2344 [==============================] - 206s 88ms/step - loss: 0.5941 - binary_accuracy: 0.5918 - val_loss: 0.5959 - val_binary_accuracy: 0.5755\n",
      "Epoch 13/100\n",
      "2344/2344 [==============================] - 207s 88ms/step - loss: 0.5939 - binary_accuracy: 0.5931 - val_loss: 0.5960 - val_binary_accuracy: 0.5761\n",
      "Epoch 14/100\n",
      "2344/2344 [==============================] - 207s 88ms/step - loss: 0.5937 - binary_accuracy: 0.5944 - val_loss: 0.5962 - val_binary_accuracy: 0.5755\n",
      "Epoch 15/100\n",
      "2344/2344 [==============================] - 207s 88ms/step - loss: 0.5935 - binary_accuracy: 0.5955 - val_loss: 0.5960 - val_binary_accuracy: 0.5761\n",
      "Epoch 16/100\n",
      "2344/2344 [==============================] - 206s 88ms/step - loss: 0.5933 - binary_accuracy: 0.5966 - val_loss: 0.5961 - val_binary_accuracy: 0.5769\n",
      "Epoch 17/100\n",
      "2344/2344 [==============================] - 206s 88ms/step - loss: 0.5931 - binary_accuracy: 0.5976 - val_loss: 0.5961 - val_binary_accuracy: 0.5769\n",
      "Epoch 18/100\n",
      "2344/2344 [==============================] - 206s 88ms/step - loss: 0.5929 - binary_accuracy: 0.5988 - val_loss: 0.5961 - val_binary_accuracy: 0.5769\n",
      "Epoch 19/100\n",
      "2344/2344 [==============================] - 205s 88ms/step - loss: 0.5927 - binary_accuracy: 0.5997 - val_loss: 0.5963 - val_binary_accuracy: 0.5760\n",
      "Epoch 20/100\n",
      "2344/2344 [==============================] - 210s 90ms/step - loss: 0.5925 - binary_accuracy: 0.6006 - val_loss: 0.5962 - val_binary_accuracy: 0.5764\n",
      "Epoch 21/100\n",
      "2344/2344 [==============================] - 206s 88ms/step - loss: 0.5923 - binary_accuracy: 0.6016 - val_loss: 0.5963 - val_binary_accuracy: 0.5765\n",
      "Epoch 22/100\n",
      "2344/2344 [==============================] - 205s 87ms/step - loss: 0.5921 - binary_accuracy: 0.6025 - val_loss: 0.5963 - val_binary_accuracy: 0.5768\n",
      "Epoch 23/100\n",
      "2344/2344 [==============================] - 207s 88ms/step - loss: 0.5919 - binary_accuracy: 0.6033 - val_loss: 0.5964 - val_binary_accuracy: 0.5764\n",
      "Epoch 24/100\n",
      "2344/2344 [==============================] - 205s 88ms/step - loss: 0.5917 - binary_accuracy: 0.6041 - val_loss: 0.5964 - val_binary_accuracy: 0.5761\n",
      "Epoch 25/100\n",
      "2344/2344 [==============================] - 204s 87ms/step - loss: 0.5916 - binary_accuracy: 0.6050 - val_loss: 0.5965 - val_binary_accuracy: 0.5762\n",
      "Epoch 26/100\n",
      "2344/2344 [==============================] - 203s 87ms/step - loss: 0.5914 - binary_accuracy: 0.6058 - val_loss: 0.5967 - val_binary_accuracy: 0.5763\n",
      "Epoch 27/100\n",
      "2344/2344 [==============================] - 204s 87ms/step - loss: 0.5912 - binary_accuracy: 0.6065 - val_loss: 0.5968 - val_binary_accuracy: 0.5762\n",
      "Epoch 28/100\n",
      "2344/2344 [==============================] - 205s 88ms/step - loss: 0.5910 - binary_accuracy: 0.6073 - val_loss: 0.5967 - val_binary_accuracy: 0.5759\n",
      "Epoch 29/100\n",
      "2344/2344 [==============================] - 204s 87ms/step - loss: 0.5908 - binary_accuracy: 0.6078 - val_loss: 0.5970 - val_binary_accuracy: 0.5761\n",
      "Epoch 30/100\n",
      "2344/2344 [==============================] - 205s 87ms/step - loss: 0.5906 - binary_accuracy: 0.6087 - val_loss: 0.5971 - val_binary_accuracy: 0.5762\n",
      "Epoch 31/100\n",
      "2344/2344 [==============================] - 203s 87ms/step - loss: 0.5905 - binary_accuracy: 0.6093 - val_loss: 0.5971 - val_binary_accuracy: 0.5753\n",
      "Epoch 32/100\n",
      "2344/2344 [==============================] - 204s 87ms/step - loss: 0.5903 - binary_accuracy: 0.6100 - val_loss: 0.5973 - val_binary_accuracy: 0.5761\n",
      "Epoch 33/100\n",
      "2344/2344 [==============================] - 204s 87ms/step - loss: 0.5901 - binary_accuracy: 0.6106 - val_loss: 0.5974 - val_binary_accuracy: 0.5761\n",
      "Epoch 34/100\n",
      "2344/2344 [==============================] - 203s 87ms/step - loss: 0.5899 - binary_accuracy: 0.6114 - val_loss: 0.5973 - val_binary_accuracy: 0.5764\n",
      "Epoch 35/100\n",
      "2344/2344 [==============================] - 204s 87ms/step - loss: 0.5897 - binary_accuracy: 0.6119 - val_loss: 0.5975 - val_binary_accuracy: 0.5768\n",
      "Epoch 36/100\n",
      "2344/2344 [==============================] - 205s 87ms/step - loss: 0.5896 - binary_accuracy: 0.6125 - val_loss: 0.5976 - val_binary_accuracy: 0.5768\n",
      "Epoch 37/100\n",
      "2344/2344 [==============================] - 205s 88ms/step - loss: 0.5894 - binary_accuracy: 0.6131 - val_loss: 0.5978 - val_binary_accuracy: 0.5770\n",
      "Epoch 38/100\n",
      "2344/2344 [==============================] - 204s 87ms/step - loss: 0.5892 - binary_accuracy: 0.6137 - val_loss: 0.5978 - val_binary_accuracy: 0.5768\n",
      "Epoch 39/100\n",
      "2344/2344 [==============================] - 204s 87ms/step - loss: 0.5890 - binary_accuracy: 0.6142 - val_loss: 0.5979 - val_binary_accuracy: 0.5760\n",
      "Epoch 40/100\n",
      "2344/2344 [==============================] - 204s 87ms/step - loss: 0.5889 - binary_accuracy: 0.6148 - val_loss: 0.5981 - val_binary_accuracy: 0.5761\n",
      "Epoch 41/100\n",
      "2344/2344 [==============================] - 204s 87ms/step - loss: 0.5887 - binary_accuracy: 0.6154 - val_loss: 0.5981 - val_binary_accuracy: 0.5769\n",
      "Epoch 42/100\n",
      "2344/2344 [==============================] - 205s 87ms/step - loss: 0.5885 - binary_accuracy: 0.6160 - val_loss: 0.5982 - val_binary_accuracy: 0.5764\n",
      "Epoch 43/100\n",
      "2344/2344 [==============================] - 203s 87ms/step - loss: 0.5883 - binary_accuracy: 0.6164 - val_loss: 0.5984 - val_binary_accuracy: 0.5764\n",
      "Epoch 44/100\n",
      "2344/2344 [==============================] - 203s 86ms/step - loss: 0.5882 - binary_accuracy: 0.6170 - val_loss: 0.5986 - val_binary_accuracy: 0.5766\n",
      "Epoch 45/100\n",
      "2344/2344 [==============================] - 203s 87ms/step - loss: 0.5880 - binary_accuracy: 0.6175 - val_loss: 0.5986 - val_binary_accuracy: 0.5768\n",
      "Epoch 46/100\n",
      "2344/2344 [==============================] - 202s 86ms/step - loss: 0.5878 - binary_accuracy: 0.6180 - val_loss: 0.5988 - val_binary_accuracy: 0.5763\n",
      "Epoch 47/100\n",
      "2344/2344 [==============================] - 203s 87ms/step - loss: 0.5876 - binary_accuracy: 0.6186 - val_loss: 0.5988 - val_binary_accuracy: 0.5764\n",
      "Epoch 48/100\n",
      "2344/2344 [==============================] - 204s 87ms/step - loss: 0.5874 - binary_accuracy: 0.6191 - val_loss: 0.5989 - val_binary_accuracy: 0.5770\n",
      "Epoch 49/100\n",
      "2344/2344 [==============================] - 205s 88ms/step - loss: 0.5873 - binary_accuracy: 0.6196 - val_loss: 0.5991 - val_binary_accuracy: 0.5767\n",
      "Epoch 50/100\n",
      "2344/2344 [==============================] - 206s 88ms/step - loss: 0.5871 - binary_accuracy: 0.6201 - val_loss: 0.5993 - val_binary_accuracy: 0.5757\n",
      "Epoch 51/100\n",
      "2344/2344 [==============================] - 204s 87ms/step - loss: 0.5869 - binary_accuracy: 0.6206 - val_loss: 0.5994 - val_binary_accuracy: 0.5762\n",
      "Epoch 52/100\n",
      "2344/2344 [==============================] - 203s 87ms/step - loss: 0.5868 - binary_accuracy: 0.6211 - val_loss: 0.5994 - val_binary_accuracy: 0.5754\n",
      "Epoch 53/100\n",
      "2344/2344 [==============================] - 204s 87ms/step - loss: 0.5866 - binary_accuracy: 0.6215 - val_loss: 0.5994 - val_binary_accuracy: 0.5762\n",
      "Epoch 54/100\n",
      "2344/2344 [==============================] - 204s 87ms/step - loss: 0.5864 - binary_accuracy: 0.6220 - val_loss: 0.5996 - val_binary_accuracy: 0.5757\n",
      "Epoch 55/100\n",
      "2344/2344 [==============================] - 206s 88ms/step - loss: 0.5862 - binary_accuracy: 0.6226 - val_loss: 0.5998 - val_binary_accuracy: 0.5751\n",
      "Epoch 56/100\n",
      "2344/2344 [==============================] - 203s 87ms/step - loss: 0.5861 - binary_accuracy: 0.6230 - val_loss: 0.5998 - val_binary_accuracy: 0.5771\n",
      "Epoch 57/100\n",
      "2344/2344 [==============================] - 203s 87ms/step - loss: 0.5859 - binary_accuracy: 0.6233 - val_loss: 0.6000 - val_binary_accuracy: 0.5749\n",
      "Epoch 58/100\n",
      "2344/2344 [==============================] - 203s 87ms/step - loss: 0.5857 - binary_accuracy: 0.6238 - val_loss: 0.6002 - val_binary_accuracy: 0.5754\n",
      "Epoch 59/100\n",
      "2344/2344 [==============================] - 204s 87ms/step - loss: 0.5855 - binary_accuracy: 0.6242 - val_loss: 0.6003 - val_binary_accuracy: 0.5758\n",
      "Epoch 60/100\n",
      "2344/2344 [==============================] - 204s 87ms/step - loss: 0.5854 - binary_accuracy: 0.6247 - val_loss: 0.6002 - val_binary_accuracy: 0.5757\n",
      "Epoch 61/100\n",
      "2344/2344 [==============================] - 203s 87ms/step - loss: 0.5852 - binary_accuracy: 0.6253 - val_loss: 0.6005 - val_binary_accuracy: 0.5747\n",
      "Epoch 62/100\n",
      "2344/2344 [==============================] - 204s 87ms/step - loss: 0.5850 - binary_accuracy: 0.6257 - val_loss: 0.6006 - val_binary_accuracy: 0.5773\n",
      "Epoch 63/100\n",
      "2344/2344 [==============================] - 204s 87ms/step - loss: 0.5849 - binary_accuracy: 0.6261 - val_loss: 0.6008 - val_binary_accuracy: 0.5760\n",
      "Epoch 64/100\n",
      "2344/2344 [==============================] - 205s 87ms/step - loss: 0.5847 - binary_accuracy: 0.6265 - val_loss: 0.6009 - val_binary_accuracy: 0.5757\n",
      "Epoch 65/100\n",
      "2344/2344 [==============================] - 204s 87ms/step - loss: 0.5845 - binary_accuracy: 0.6270 - val_loss: 0.6011 - val_binary_accuracy: 0.5754\n",
      "Epoch 66/100\n",
      "2344/2344 [==============================] - 204s 87ms/step - loss: 0.5843 - binary_accuracy: 0.6274 - val_loss: 0.6011 - val_binary_accuracy: 0.5749\n",
      "Epoch 67/100\n",
      "2344/2344 [==============================] - 204s 87ms/step - loss: 0.5842 - binary_accuracy: 0.6278 - val_loss: 0.6011 - val_binary_accuracy: 0.5759\n",
      "Epoch 68/100\n",
      "2344/2344 [==============================] - 205s 87ms/step - loss: 0.5840 - binary_accuracy: 0.6284 - val_loss: 0.6012 - val_binary_accuracy: 0.5760\n",
      "Epoch 69/100\n",
      "2344/2344 [==============================] - 206s 88ms/step - loss: 0.5838 - binary_accuracy: 0.6287 - val_loss: 0.6014 - val_binary_accuracy: 0.5757\n",
      "Epoch 70/100\n",
      "2344/2344 [==============================] - 205s 87ms/step - loss: 0.5836 - binary_accuracy: 0.6291 - val_loss: 0.6013 - val_binary_accuracy: 0.5762\n",
      "Epoch 71/100\n",
      "2344/2344 [==============================] - 204s 87ms/step - loss: 0.5835 - binary_accuracy: 0.6295 - val_loss: 0.6016 - val_binary_accuracy: 0.5756\n",
      "Epoch 72/100\n",
      "2344/2344 [==============================] - 204s 87ms/step - loss: 0.5833 - binary_accuracy: 0.6300 - val_loss: 0.6017 - val_binary_accuracy: 0.5752\n",
      "Epoch 73/100\n",
      "2344/2344 [==============================] - 206s 88ms/step - loss: 0.5831 - binary_accuracy: 0.6304 - val_loss: 0.6019 - val_binary_accuracy: 0.5759\n",
      "Epoch 74/100\n",
      "2344/2344 [==============================] - 205s 88ms/step - loss: 0.5829 - binary_accuracy: 0.6308 - val_loss: 0.6021 - val_binary_accuracy: 0.5756\n",
      "Epoch 75/100\n",
      "2344/2344 [==============================] - 207s 88ms/step - loss: 0.5828 - binary_accuracy: 0.6311 - val_loss: 0.6021 - val_binary_accuracy: 0.5754\n",
      "Epoch 76/100\n",
      "2344/2344 [==============================] - 205s 88ms/step - loss: 0.5826 - binary_accuracy: 0.6315 - val_loss: 0.6021 - val_binary_accuracy: 0.5755\n",
      "Epoch 77/100\n",
      "2344/2344 [==============================] - 204s 87ms/step - loss: 0.5824 - binary_accuracy: 0.6321 - val_loss: 0.6022 - val_binary_accuracy: 0.5756\n",
      "Epoch 78/100\n",
      "2344/2344 [==============================] - 204s 87ms/step - loss: 0.5822 - binary_accuracy: 0.6323 - val_loss: 0.6024 - val_binary_accuracy: 0.5760\n",
      "Epoch 79/100\n",
      "2344/2344 [==============================] - 203s 87ms/step - loss: 0.5821 - binary_accuracy: 0.6327 - val_loss: 0.6027 - val_binary_accuracy: 0.5757\n",
      "Epoch 80/100\n",
      "2344/2344 [==============================] - 204s 87ms/step - loss: 0.5819 - binary_accuracy: 0.6331 - val_loss: 0.6028 - val_binary_accuracy: 0.5758\n",
      "Epoch 81/100\n",
      "2344/2344 [==============================] - 204s 87ms/step - loss: 0.5817 - binary_accuracy: 0.6335 - val_loss: 0.6030 - val_binary_accuracy: 0.5750\n",
      "Epoch 82/100\n",
      "2344/2344 [==============================] - 204s 87ms/step - loss: 0.5815 - binary_accuracy: 0.6340 - val_loss: 0.6031 - val_binary_accuracy: 0.5753\n",
      "Epoch 83/100\n",
      "2344/2344 [==============================] - 202s 86ms/step - loss: 0.5814 - binary_accuracy: 0.6343 - val_loss: 0.6033 - val_binary_accuracy: 0.5755\n",
      "Epoch 84/100\n",
      "2344/2344 [==============================] - 203s 87ms/step - loss: 0.5812 - binary_accuracy: 0.6347 - val_loss: 0.6033 - val_binary_accuracy: 0.5751\n",
      "Epoch 85/100\n",
      "2344/2344 [==============================] - 205s 87ms/step - loss: 0.5810 - binary_accuracy: 0.6352 - val_loss: 0.6034 - val_binary_accuracy: 0.5749\n",
      "Epoch 86/100\n",
      "2344/2344 [==============================] - 208s 89ms/step - loss: 0.5808 - binary_accuracy: 0.6355 - val_loss: 0.6038 - val_binary_accuracy: 0.5752\n",
      "Epoch 87/100\n",
      "2344/2344 [==============================] - 205s 87ms/step - loss: 0.5807 - binary_accuracy: 0.6360 - val_loss: 0.6037 - val_binary_accuracy: 0.5750\n",
      "Epoch 88/100\n",
      "2344/2344 [==============================] - 204s 87ms/step - loss: 0.5805 - binary_accuracy: 0.6362 - val_loss: 0.6038 - val_binary_accuracy: 0.5744\n",
      "Epoch 89/100\n",
      "2344/2344 [==============================] - 202s 86ms/step - loss: 0.5803 - binary_accuracy: 0.6367 - val_loss: 0.6038 - val_binary_accuracy: 0.5743\n",
      "Epoch 90/100\n",
      "2344/2344 [==============================] - 206s 88ms/step - loss: 0.5801 - binary_accuracy: 0.6369 - val_loss: 0.6041 - val_binary_accuracy: 0.5751\n",
      "Epoch 91/100\n",
      "2344/2344 [==============================] - 206s 88ms/step - loss: 0.5800 - binary_accuracy: 0.6373 - val_loss: 0.6040 - val_binary_accuracy: 0.5749\n",
      "Epoch 92/100\n",
      "2344/2344 [==============================] - 204s 87ms/step - loss: 0.5798 - binary_accuracy: 0.6377 - val_loss: 0.6044 - val_binary_accuracy: 0.5743\n",
      "Epoch 93/100\n",
      "2208/2344 [===========================>..] - ETA: 11s - loss: 0.5796 - binary_accuracy: 0.6382"
     ]
    }
   ],
   "source": [
    "%%time\n",
    "# Tuning the hyper parameters\n",
    "\n",
    "tuner = kt.tuners.bayesian.BayesianOptimization(build_model,'binary_accuracy',20,project_name=\"bayes\", seed=myrand)\n",
    "tuner.search(X_train_short, y_train_short,batch_size=256, epochs=100, validation_data=(X_test,y_test),callbacks=[stopEarly,tensorboard_callback])\n",
    "tuner.results_summary()"
   ]
  },
  {
   "cell_type": "code",
   "execution_count": 19,
   "metadata": {},
   "outputs": [
    {
     "data": {
      "text/plain": [
       "{'learning_rate': 0.00035495571278655694,\n",
       " 'epsilon': 1e-05,\n",
       " 'beta_1': 0.8516826262117726,\n",
       " 'beta_2': 0.8000000000000002}"
      ]
     },
     "execution_count": 19,
     "metadata": {},
     "output_type": "execute_result"
    }
   ],
   "source": [
    "best_hps = tuner.get_best_hyperparameters(num_trials = 1)[0]\n",
    "# use the best model for training\n",
    "model = tuner.hypermodel.build(best_hps)\n",
    "best_hps.values"
   ]
  },
  {
   "cell_type": "code",
   "execution_count": 20,
   "metadata": {},
   "outputs": [],
   "source": [
    "def train_model(model, X = X_train, Y=y_train, epochs=10, batch_size=512,verbose=0, log_dir = f\"dense_model/\"):\n",
    "    log_dir += datetime.datetime.now().strftime(\"%Y%m%d-%H%M%S\")\n",
    "    tensorboard_callback = keras.callbacks.TensorBoard(log_dir=log_dir, histogram_freq=1,profile_batch=0)\n",
    "    model.fit(X, Y, validation_data=(X_test, y_test), epochs=epochs, batch_size=batch_size,callbacks=[tensorboard_callback],verbose=verbose)\n",
    "    return model"
   ]
  },
  {
   "cell_type": "code",
   "execution_count": null,
   "metadata": {},
   "outputs": [],
   "source": [
    "%%time\n",
    "my_model_trained = train_model(model, epochs=100)"
   ]
  },
  {
   "cell_type": "code",
   "execution_count": 20,
   "metadata": {},
   "outputs": [
    {
     "name": "stdout",
     "output_type": "stream",
     "text": [
      "40/40 [==============================] - 1s 14ms/step - loss: 0.6007 - binary_accuracy: 0.5762\n",
      "test loss: 0.600691, test acc: 0.5761699676513672\n"
     ]
    }
   ],
   "source": [
    "results = model.evaluate(X_test, y_test, batch_size=256)\n",
    "print(\"test loss: %f, test acc: %s\" % tuple(results))"
   ]
  },
  {
   "cell_type": "code",
   "execution_count": 21,
   "metadata": {},
   "outputs": [],
   "source": [
    "my_model_trained.save(\"hashdice_model.h5\")"
   ]
  },
  {
   "cell_type": "code",
   "execution_count": null,
   "metadata": {},
   "outputs": [],
   "source": []
  }
 ],
 "metadata": {
  "environment": {
   "name": "tf2-gpu.2-6.m81",
   "type": "gcloud",
   "uri": "gcr.io/deeplearning-platform-release/tf2-gpu.2-6:m81"
  },
  "kernelspec": {
   "display_name": "Python 3 (ipykernel)",
   "language": "python",
   "name": "python3"
  },
  "language_info": {
   "codemirror_mode": {
    "name": "ipython",
    "version": 3
   },
   "file_extension": ".py",
   "mimetype": "text/x-python",
   "name": "python",
   "nbconvert_exporter": "python",
   "pygments_lexer": "ipython3",
   "version": "3.10.9"
  }
 },
 "nbformat": 4,
 "nbformat_minor": 4
}
